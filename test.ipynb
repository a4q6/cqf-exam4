{
 "cells": [
  {
   "cell_type": "code",
   "execution_count": 1,
   "id": "29541bab",
   "metadata": {},
   "outputs": [],
   "source": [
    "import torch\n",
    "import yfinance\n",
    "\n",
    "from cqf.data.yfinance import get_daily_ohlc"
   ]
  },
  {
   "cell_type": "markdown",
   "id": "66939ea8",
   "metadata": {},
   "source": [
    "# aaa"
   ]
  },
  {
   "cell_type": "code",
   "execution_count": null,
   "id": "3ddfdadf",
   "metadata": {},
   "outputs": [],
   "source": []
  },
  {
   "cell_type": "code",
   "execution_count": null,
   "id": "23d1dc83",
   "metadata": {},
   "outputs": [],
   "source": []
  },
  {
   "cell_type": "code",
   "execution_count": null,
   "id": "ab26ed29",
   "metadata": {},
   "outputs": [],
   "source": []
  },
  {
   "cell_type": "markdown",
   "id": "c6b15b4a",
   "metadata": {},
   "source": [
    "# bbb"
   ]
  },
  {
   "cell_type": "code",
   "execution_count": null,
   "id": "c22382db",
   "metadata": {},
   "outputs": [],
   "source": []
  },
  {
   "cell_type": "code",
   "execution_count": null,
   "id": "1439236e",
   "metadata": {},
   "outputs": [],
   "source": []
  },
  {
   "cell_type": "code",
   "execution_count": 10,
   "id": "00febe00",
   "metadata": {},
   "outputs": [],
   "source": [
    "# !jupyter nbconvert test.ipynb --to html --template lab --HTMLExporter.theme dark"
   ]
  },
  {
   "cell_type": "code",
   "execution_count": null,
   "id": "ca39bc09",
   "metadata": {},
   "outputs": [],
   "source": []
  }
 ],
 "metadata": {
  "kernelspec": {
   "display_name": "Python 3 (ipykernel)",
   "language": "python",
   "name": "python3"
  },
  "language_info": {
   "codemirror_mode": {
    "name": "ipython",
    "version": 3
   },
   "file_extension": ".py",
   "mimetype": "text/x-python",
   "name": "python",
   "nbconvert_exporter": "python",
   "pygments_lexer": "ipython3",
   "version": "3.8.6"
  },
  "toc": {
   "base_numbering": 1,
   "nav_menu": {},
   "number_sections": true,
   "sideBar": true,
   "skip_h1_title": false,
   "title_cell": "Table of Contents",
   "title_sidebar": "Contents",
   "toc_cell": false,
   "toc_position": {},
   "toc_section_display": true,
   "toc_window_display": true
  }
 },
 "nbformat": 4,
 "nbformat_minor": 5
}
